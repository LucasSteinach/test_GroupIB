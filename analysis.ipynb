{
 "cells": [
  {
   "cell_type": "code",
   "execution_count": 2,
   "id": "57752c45-73ec-4939-9139-ae05468baf47",
   "metadata": {},
   "outputs": [],
   "source": [
    "# Input: .csv, output file of main.py\n",
    "# Output: .csv contains compromised and associated with them records;"
   ]
  },
  {
   "cell_type": "code",
   "execution_count": 1,
   "id": "ccaceb59",
   "metadata": {},
   "outputs": [],
   "source": [
    "import pandas as pd\n",
    "import csv\n",
    "from pprint import pprint"
   ]
  },
  {
   "cell_type": "code",
   "execution_count": 2,
   "id": "c2144906",
   "metadata": {},
   "outputs": [],
   "source": [
    "# given fraudulent data\n",
    "fraudulent_device = '91b12379-8098-457f-a2ad-a94d767797c2'\n",
    "fraudulent_accounts = ['0007f265568f1abc1da791e852877df2047b3af9']\n",
    "data = pd.read_csv('output.csv')"
   ]
  },
  {
   "cell_type": "code",
   "execution_count": 3,
   "id": "2d7550ee",
   "metadata": {},
   "outputs": [
    {
     "data": {
      "text/plain": [
       "['69DBFA5B34C4E9919A68738F94D85DD59F35E968']"
      ]
     },
     "execution_count": 3,
     "metadata": {},
     "output_type": "execute_result"
    }
   ],
   "source": [
    "#1_searching for device fingerprint associated with fraudulent accounts\n",
    "associated_fingerprints = list(set(data['device_fingerprint'][\n",
    "    ((data['device_id'] == fraudulent_device) | (data['identity'].isin(fraudulent_accounts)))\n",
    "    & (data['device_fingerprint'] != 'No data')\n",
    "].values))\n",
    "\n",
    "associated_fingerprints"
   ]
  },
  {
   "cell_type": "code",
   "execution_count": 4,
   "id": "81d50a23",
   "metadata": {},
   "outputs": [
    {
     "data": {
      "text/plain": [
       "['0007f265568f1abc1da791e852877df2047b3af9',\n",
       " '00064120f0aa15e8c4197cf9f18a03a6e4bd35cb']"
      ]
     },
     "execution_count": 4,
     "metadata": {},
     "output_type": "execute_result"
    }
   ],
   "source": [
    "#1 searching for other account associated with found fingerprints\n",
    "fraudulent_accounts = list(set(data['identity'][((data['device_id'] == fraudulent_device)\n",
    "                       | (data['identity'].isin(fraudulent_accounts))\n",
    "                       | (data['device_fingerprint'].isin(associated_fingerprints)))\n",
    "                        & (data['identity'] != '-')\n",
    "                       ].copy()))\n",
    "fraudulent_accounts"
   ]
  },
  {
   "cell_type": "code",
   "execution_count": 5,
   "id": "5e5e97fc",
   "metadata": {},
   "outputs": [
    {
     "data": {
      "text/plain": [
       "['C45D75CA94FD92796B0F51000CF754B035AA4E48',\n",
       " 'BAA38B83B48FDB5F2164735E2C5792083F12B74E',\n",
       " '69DBFA5B34C4E9919A68738F94D85DD59F35E968']"
      ]
     },
     "execution_count": 5,
     "metadata": {},
     "output_type": "execute_result"
    }
   ],
   "source": [
    "#2_searching for device fingerprint associated with fraudulent accounts\n",
    "associated_fingerprints = list(set(data['device_fingerprint'][\n",
    "    ((data['device_id'] == fraudulent_device) | (data['identity'].isin(fraudulent_accounts)))\n",
    "    & (data['device_fingerprint'] != 'No data')\n",
    "].values))\n",
    "\n",
    "associated_fingerprints"
   ]
  },
  {
   "cell_type": "code",
   "execution_count": 6,
   "id": "dfb74034",
   "metadata": {},
   "outputs": [
    {
     "data": {
      "text/plain": [
       "['ed84ee8a7bfc522b7c3dc8dbe429026648762128',\n",
       " '6979f4c8c66788310545b4fce8b78bf805752e15',\n",
       " '60bf94baa15c778cdaa317dc3c19b0644466b224',\n",
       " '6719107efbfbed86019489f0015a05ce2cdce445',\n",
       " '51c69cc98f25bf45b8614a83c3756f8acc5b9840',\n",
       " '36f4f1ccdb7c3618dd9d19c61bbe8bebc1eb81c0',\n",
       " 'ed5f15a918b9aff1e02f79f4a2bd550689c3cfde',\n",
       " '19d8af3024eeae1a5f036ce343389018605831a9',\n",
       " '7314cc4adc6deb5529a3b8d433631d85da723add',\n",
       " '491d9f284c73a07047cf191f86a32ea32a01876c',\n",
       " 'e77b6fdc06ef98fb1a748c5a22c6c8c91fbcc6f6',\n",
       " 'd78da869c1c2192b40ab59fe50b8a8bc3d110321',\n",
       " '6866fd16e921ae1bf1cd94dc56ccece5c6cdcc6f',\n",
       " '0635e958d3407e1e5e316bb467cb3663365f922a',\n",
       " 'fa69bc042fccd6ab3fb5ebb2f2aeef6ed6bb22ea',\n",
       " '654c3e1f0176a108ec18466552fbc51813267905',\n",
       " '95ff7f422144655853a9552ae711bafe23f0b22a',\n",
       " 'e52de71382f6bef97fa5e42f4d9235cd11d2c34e',\n",
       " '73b48a9b18666c20ecef40a63cd395f3a214ce4a',\n",
       " '013488e14fc5d09635e71392618e41424bea3197',\n",
       " '992d296216e310481ee1f18babc4ec5166c61353',\n",
       " '0189af5ce657a6b28a054fbf1f02a4bc4d0debf5',\n",
       " 'a84aee8e9a55b03dcbd3b9f00692f79757a474a0',\n",
       " 'a3abb75ee3eba0fa4d0300e7d9c8507048e80ca1',\n",
       " 'e4f60b3586e920460cf1f1f8d090d49ec7a12ecf',\n",
       " 'c7c0fe895a32a3185d56629c0bc10cc4fe3dafae',\n",
       " 'fd75e459d885d9fbb7b9ecf14cea12147c7dcc3a',\n",
       " '7863fbfb7e0ff9e7e7471d15b7039bfbaa106610',\n",
       " '34893f88cf641d5707321144e6c12d3473453d2c',\n",
       " 'f5c257e1e7d88f021b30ba32994461e514ce6551',\n",
       " '6f0866042d5cea3c7cd8bc5b6d8ecc816ade1ff3',\n",
       " '8e49bca34cc7f522c0555eb395f3a930fc11c234',\n",
       " '02d2c59150f7bb7295c4fceed0cdca8b25e64059',\n",
       " '4710ea2dacb91d56f449dd078a605e58dcb6e42e',\n",
       " 'f41dd534c3858aa0a11f4d244179b88523f7a51c',\n",
       " '03c2cfd1495dbd28724ed9afd8e7027327014c73',\n",
       " 'c2b94ad9e19bdd0453c33a2e996fe1eba302fe4a',\n",
       " '7d647719862668ef7a2e1399c799cbc9babe3a93',\n",
       " 'b79b99af80582ba15b22452dc30888fff3d5eee7',\n",
       " '728f0b0fb6d142d70866ac6f3a4d1ae09b79e791',\n",
       " 'b68c87d259cd50423536d65624ce3806d7a576f0',\n",
       " '1ae88405254b872b724a96cad932d110984584ea',\n",
       " 'c1f8db3704cec442573e4854e94702208d75372a',\n",
       " 'ba51ef557ba1915ef7ba406f8b87bd0b3c0f74e8',\n",
       " 'b1a00ac9e4faecb26a0c8a2550f88d382487fb56',\n",
       " 'c981d1d1dd4afff79558c25f51aaa50fd3f7024c',\n",
       " '47855525cfca0219f04baecdbca4dfc633e90c44',\n",
       " 'c9f24a32f97d8042f6d10263dad83b208603a1e0',\n",
       " '5c4f1b868d4745299384360635bece25cc9ebda6',\n",
       " 'a5af6469c83b7a2805c53b4d2f6f6638660452cd',\n",
       " '7f8bfa812f2503efb620d51dd5df5fef42ec376e',\n",
       " '1df7cc0846240309c96d36ec438e4bddde09e15f',\n",
       " 'b11d4a666fbc28fc81fcad8af286168e57594dea',\n",
       " '27aed969b439ddd618ca34ce3d8bdcf26196ccb3',\n",
       " '06db79a9715614ae383937185ad1c504d1e58da2',\n",
       " '2485124bc3047671fb84e1493484da2be47ff916',\n",
       " '12187342f50c455eaf5820efb370947015204f6b',\n",
       " '5cde42951430a96c3f1d41159f6f8151574366cd',\n",
       " 'c986c4367a4acdcb21ef6eb209f80b5c7585ed61',\n",
       " '4ed91f004171dc5d8c4316c443c0462664308e9a',\n",
       " 'b96cf9a5a43c239019d697f7056aed1171bc3fda',\n",
       " 'ecb2bc5d54b3993af0f8513e872026753de603ef',\n",
       " 'cb703b27fdfe08e07faf1f221551ab94cf9b8523',\n",
       " 'baf4bcb34ec57afbdfc55742250b107b77edfc34',\n",
       " 'f369fc1996ab437eb47a8309c16bd54a0750486b',\n",
       " '1c0bd541e80fb10f492db78c6323bd7b88383146',\n",
       " '88a2005838d2df94456c0e507859436651305073',\n",
       " '58bfba8b572d6ebff565282f83061c1961a789a5',\n",
       " '433ae7dac77787c6e7305c0da8cc65cce2e5fc95',\n",
       " '097643c61fc23539f16e3b698ea7b4221876d02b',\n",
       " '86bf19a7384b9a06bb75e7c50e10925545beeceb',\n",
       " '987dbb6b1a91b27adf4de39d1edcdf769c89a13d',\n",
       " '102282612850dcf4a2b64dbd190516bb5c17b4d2',\n",
       " 'd43f7db15520668a73f10052ad13180c4259679e',\n",
       " '6852b849a468734a0903d085e7421b7252de55ab',\n",
       " 'b4b4e8e4cfff89cbfa156bbaf34896a73f7c1d73',\n",
       " '40a3937938b956c3bc154dfe8953c12c712c48f6',\n",
       " 'd992b8eb6be7d928dd602c1c689e90cf9c5b88b7',\n",
       " '04b9c1d3477e38aac54bda0242c0ed416e977368',\n",
       " '96af32dd3adcd428719f7ad00140938e11bfe8f3',\n",
       " 'a02d67b2f9e9168e4315ab7bad8fc79a945da6a4',\n",
       " 'cf318d76932745b55af49acf05544d36125ce3d8',\n",
       " 'b95b1d5b77f62785d680bf8a76bec20e0ec020a2',\n",
       " '4a74fe43a0c9415dc89b4b84cfd4a0901a2bfab8',\n",
       " '48c16b45bc8ec0c036aed411d0b24ed55a0ad7f8',\n",
       " '1c60bbf3e6707e835f33fdc2095067d82fff8d0c',\n",
       " '1e366c38bc4d37284e0cf1eb28555f8e254e00da',\n",
       " '359d387292f122a0a4aab3d16a6e1b01e94459e5',\n",
       " '9372c617bc4c0a7b5d0e073f1d27183687efe8ae',\n",
       " '30aa7b1c816d2948756606437493b69e683151f2',\n",
       " '1611632ffd2299762826016b4c585989e6933397',\n",
       " 'ada0b298a7d6a37ab88c245d17ad70dd8772d7f8',\n",
       " '386db6e0a9630322abd4bd3117d8ee65b1dfdc44',\n",
       " '11b830548178bb6e5148fd6b38532cf1d1d9e798',\n",
       " 'bb7888c885fac17802bee2942e371903a48d1fd1',\n",
       " '340880e29bdd74032af94be1774d52a265dd6d50',\n",
       " 'd106afc2b64ad4fa33604faca3f3722c877ec1b6',\n",
       " 'd6fd531e6ea975ce8dfdf6551897f580469ef66a',\n",
       " '9beb6937470c908ff521b614c27565f3f29ef636',\n",
       " 'f0ce5468c374777646ff8bf3e39e8c6cf906a805',\n",
       " 'de07aed55f4107001dd8195311566cbb3292375e',\n",
       " 'ffe451896dae6770da974c34972f5b9ca6f22ad7',\n",
       " 'cdbacee40c793c14f700c7c5ccee3057b79b9802',\n",
       " 'e35de8da700b68d6ab4c45f3e959014efd04b519',\n",
       " '5c739a489dd0afa34b7ab8c8df6320e5e54ff133',\n",
       " '59be87dea7b9c3b9cf48206c5217b5de808379f1',\n",
       " '11fc22be499533d146c532d46739466931a98845',\n",
       " '081e4f2ee316e9f100b76db1711778095159343d',\n",
       " 'e85aa5bff5276e4e7b16c8a21ee36d79b64c2067',\n",
       " 'bf5b6fb3cad90c10aa6f1e36f1b83b7dff5f7f7c',\n",
       " '1282de6a83463178f448dc339925700edd6b2413',\n",
       " '18c94e16446a956c16f6add7afcb193cb574acc4',\n",
       " '8f280e995d7f455f9d54c6f259fefd68be4cd840',\n",
       " '3cd3864bd4010f7b61f927dd0a4b2735d51c7f4b',\n",
       " '650b746c58e012bbd243bea5365baa6f8a81bc41',\n",
       " '0007f265568f1abc1da791e852877df2047b3af9',\n",
       " '85271df91c984c65cb4387176bec9f77e05bfe05',\n",
       " 'b830afe192d8bb9defcdeaef241b5b5581504fdb',\n",
       " '4487469e808b5b6b2424143f34e210a3df389159',\n",
       " 'dea1f9b1b8a6223c84aec07b18938eae53b16240',\n",
       " '47a8274b3a71bbfa730aeda281911d8100694b2f',\n",
       " 'e32121f0b2519a4707d313ff2836d3dbfae39196',\n",
       " '3a1e18f9afabcfa0f81cb53bc0e1efd5f198f248',\n",
       " '27252fcc00e08a31b5eee66d8ce5fbbaf98c0d45',\n",
       " '3604df887ac21c7e82bbc909a2893af7c41fc5bd',\n",
       " '10867302a58b4235e760ace07ff8346280cff377',\n",
       " '3eaad9c0a18150d21ecc13b194f5126cf936816f',\n",
       " '53dbf10b253cda8f15e44d7630b81cc1d66db645',\n",
       " 'feb1c1ab61359d946715748a14f2bf7df9abd29c',\n",
       " 'b0a2a6ab415437cb9f5f96590b88cb82d465c4fb',\n",
       " '00064120f0aa15e8c4197cf9f18a03a6e4bd35cb',\n",
       " '4c9a28cb61b96653bf70c821df8977df33595f3f',\n",
       " '91dacb09419f9d4a0d8131e39332ead307002945',\n",
       " 'd2d583f01a1e96bf441634b332fff91394c7d675',\n",
       " '01407a5fa2535a827cb93dd65d8fb8ab11c6d00a',\n",
       " 'e7d15adbe193b392939e7a58b0aec9b4323321ea',\n",
       " '624e305eca4587b8e63604c7eb19b36c91d429d3',\n",
       " '1f77728a54e1f1d6646ef33bf962b59060f3400f',\n",
       " '7ce2722d72c4e8723654406ec6d8db8701685781',\n",
       " 'f6e627a61f8dbbeffd5c5524f63f4940ce899f78',\n",
       " 'a21a8f8e212559d0d4fb12a6d3ac5d3c0ca9ff5b',\n",
       " 'ceb11dd8f94206b4f4d75689628bacf2d2c6b7bf',\n",
       " 'e1aa0e9cda1558a90d1dc01cc14110189ec1266c',\n",
       " '9bcb6b5a926ea29bc4770712f12b172f0d4f1647',\n",
       " 'e925ce12a70d3d8d459b006a470cfc08a9a7142c',\n",
       " '52fa7f1d64066f5832c18824e70e352abe79e5aa',\n",
       " 'ccbc2273b0971a6b073015c31ab20e3e7c7cf815',\n",
       " '99564b199a59288a2ef1616a31010b752b891793',\n",
       " '23f63e25454ed5d23ca47724038e396cc455de38',\n",
       " '4522e5aa082f6061bd85bafc2e8562a8e93a6323',\n",
       " '8bed3ac98a933315d2f8bf173e2dd32a3d95a924',\n",
       " '0de57c7fe73a3771b90f7418d70d5f4b98d9d292',\n",
       " 'eaffdb83f99f7aa36036dff6e30fb9c30e1ae95c',\n",
       " '28358842258f68fd9df06d917ed9624cded2f066',\n",
       " 'c656583643e4fa9463375aaa57c7aad12f72191e',\n",
       " '77d01b322ba021a0d6e67d8113a6356afefc8b91',\n",
       " 'a4cd0a39b6728848af1d6b62ef83f5aff6f053b4',\n",
       " '5f71bce87aa813fdbc2301b1b32d4c8587434d9c',\n",
       " '92ab6a8032b6aafa35fef2d58859692d8e817ead',\n",
       " '97398790427cf1519685127e3776482bb6c118a2',\n",
       " '9ba3b5a4cc2b3cfa1f592bf00cfc68fdc1fc83a5',\n",
       " '2414097cbd266e9df1f31cf97a88b25d84fcdfe2',\n",
       " '7c1a5bbbeb6e84f7f70e95521a6dc6589498637c',\n",
       " 'a8a1e8787b7362ec30d6064bf8f8751d1e462c1c',\n",
       " '0556f6cbae0f09d65c1b66e2f1c1b0f7e8bfa8bb',\n",
       " '8db0f911db96706fc7aca73d45c68d83f9ab55e7',\n",
       " 'eb3ccb1a42f8d8a190eaf4a6e4681e4d70744510',\n",
       " 'ac91b5ac13625502992dd0efed6ecbd9a2957bc8',\n",
       " '49c5c4fed6ee6cb54224991b0fe17b19a1b03c0d',\n",
       " '4cff2129326493a1916b7bb8543b71d66946c455',\n",
       " 'ce3e597cf284005db2837363644ced6db359b3d3',\n",
       " '5f76985b491e8abb34b728f292e02eff5698b7e7',\n",
       " '4e1d0e0f55f0e6c7e7e844d858860ba4d628e54e',\n",
       " '3dd9652323cdeaf28923e00386650a5e0285d520',\n",
       " 'efc0bc66559dcfe1f60f67238355dca4313f3582',\n",
       " '80773869716bc2025bfd61baff701232deb67776',\n",
       " '87ac6ebd08ccf73bfcf20c1e0856727ea9846b49',\n",
       " '9c024cfde5aeb1b760e7232d8bdc4bd2ae857512',\n",
       " '78a16584ac05a03bdc0c21088cb98c82d10678bc',\n",
       " 'df5a5006fe8a7d3d4e2523ccc3fd8bf60f9490ee',\n",
       " '374c74e8506bac347800d35b3d004ddcd386f2eb',\n",
       " '64e91246a80219d9b24eb130abedbab8d68aa35a',\n",
       " 'd4811d5cd2800dc6a14ada9cef099dad7b2745ed',\n",
       " '7cbec51bbefb16867bb13cf3de225c0e59527da9',\n",
       " '942759fa8fc1364fb04014895252c2b1a267ba09',\n",
       " '13e6fc39c6b4446c82a55fa4210a15a316576f93',\n",
       " '23db5b9fad9872484bddb13c78b25196c64de325',\n",
       " 'fd055daf39f5271a00599fd55734d5f939e3c198',\n",
       " '9195f647c0e522d5b3811ed01b2af9b67a831033',\n",
       " 'c3b64df61abeaf4579aa19609fd5ad917ce9e803',\n",
       " '5870f2eabee28a2cffe20d6414e72fb5264e6615',\n",
       " '3f7491f892ab7a3cc46cf3d4e43e11c3553bc937',\n",
       " 'a31f859a8f8577521da1f3c7a99dae6e45548fd3',\n",
       " 'd49a442e4c441cf02a0da5ed6dc6f5eb233401c0',\n",
       " '74f9470b027d193bf847660dd0d8743e403ae3e5']"
      ]
     },
     "execution_count": 6,
     "metadata": {},
     "output_type": "execute_result"
    }
   ],
   "source": [
    "#2 searching for other account associated with found fingerprints\n",
    "fraudulent_accounts = list(set(data['identity'][((data['device_id'] == fraudulent_device)\n",
    "                       | (data['identity'].isin(fraudulent_accounts))\n",
    "                       | (data['device_fingerprint'].isin(associated_fingerprints)))\n",
    "                        & (data['identity'] != '-')\n",
    "                       ].copy()))\n",
    "fraudulent_accounts"
   ]
  },
  {
   "cell_type": "code",
   "execution_count": 10,
   "id": "7ffc9465-7b2a-4c81-a253-e33878f992d2",
   "metadata": {},
   "outputs": [],
   "source": [
    "with open('analysis_result.csv', 'w', newline='') as csvfile:\n",
    "    writer = csv.writer(csvfile)\n",
    "    writer.writerow(fraudulent_accounts)"
   ]
  },
  {
   "cell_type": "code",
   "execution_count": null,
   "id": "6c6e66e9-6043-4843-b137-eafd3c92fe90",
   "metadata": {},
   "outputs": [],
   "source": []
  }
 ],
 "metadata": {
  "kernelspec": {
   "display_name": "Python 3 (ipykernel)",
   "language": "python",
   "name": "python3"
  },
  "language_info": {
   "codemirror_mode": {
    "name": "ipython",
    "version": 3
   },
   "file_extension": ".py",
   "mimetype": "text/x-python",
   "name": "python",
   "nbconvert_exporter": "python",
   "pygments_lexer": "ipython3",
   "version": "3.11.4"
  }
 },
 "nbformat": 4,
 "nbformat_minor": 5
}
