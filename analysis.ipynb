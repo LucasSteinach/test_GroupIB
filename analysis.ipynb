{
 "cells": [
  {
   "cell_type": "code",
   "execution_count": 19,
   "id": "57752c45-73ec-4939-9139-ae05468baf47",
   "metadata": {},
   "outputs": [],
   "source": [
    "from pyvis.network import Network\n",
    "import pandas as pd"
   ]
  },
  {
   "cell_type": "code",
   "execution_count": 20,
   "id": "6a9d6587-6404-4194-9aff-b10044425fd9",
   "metadata": {},
   "outputs": [],
   "source": [
    "fraudulent_device = '91b12379-8098-457f-a2ad-a94d767797c2'\n",
    "fraudulent_account = '0007f265568f1abc1da791e852877df2047b3af9'\n",
    "data = pd.read_csv('output.csv')"
   ]
  },
  {
   "cell_type": "code",
   "execution_count": 21,
   "id": "06498b94-dcf0-400d-8397-3bb61e277645",
   "metadata": {
    "jupyter": {
     "source_hidden": true
    }
   },
   "outputs": [],
   "source": [
    "def prepare_nodes_parameters(df:pd.DataFrame, color: str = 'white') -> dict:\n",
    "    \"\"\"\n",
    "    :param df: pandas.DataFrame, will convert into nodes of graph\n",
    "    :param color: str, property of node\n",
    "    :return: result, dict, structure below\n",
    "    \"\"\"\n",
    "    result = {\n",
    "        'n_id': [],\n",
    "        'value': [],\n",
    "        'title': [],\n",
    "        'label': [],\n",
    "        'color': [],\n",
    "        'data': []\n",
    "    }\n",
    "    for index, row in df.iterrows():\n",
    "        result['n_id'].append(index)\n",
    "        result['value'].append(100)\n",
    "        result['title'].append(\n",
    "            f\"\"\"device_id: {row['device_id']}\n",
    "            account: {row['identity']}\n",
    "            device_fingerprint: {row['device_fingerprint']}\n",
    "            bank: {row['bank']}\n",
    "            ip: {row['ips']}\n",
    "            lat: {row['lat']}\n",
    "            lon: {row['lon']}\n",
    "            country: {row['country']}\n",
    "            city: {row['city']}\n",
    "            os: {row['os']}\n",
    "            browser: {row['browser']}\n",
    "            screen: {row['screen']}\n",
    "            mobile: {row['mobile']}\n",
    "            proxy: {row['proxy']}\n",
    "            \"\"\")\n",
    "        result['label'].append(f'id {str(index)}')\n",
    "        result['color'].append(color)\n",
    "        result['data'].append(row[:].to_dict())\n",
    "    return result"
   ]
  },
  {
   "cell_type": "code",
   "execution_count": 22,
   "id": "d5b8fd4a-c0a6-47e7-ab1a-fc5fd7d97141",
   "metadata": {},
   "outputs": [],
   "source": [
    "def calc_edge_width_and_title(row1: dict, row2: dict, fields: list = list(data.columns)) -> (int, str):\n",
    "    \"\"\"\n",
    "    Compares each column of both nodes data and calculates how many connections they have.\n",
    "    If there are connections in device_id, device_fingerprint, identitywill width grow by 10\n",
    "    :return: width, integer value of edge width\n",
    "    :return: title, contains names of connection fields, will be shown by hover on edge\n",
    "    \"\"\"\n",
    "    title = ['These fields are equal:']\n",
    "    width = 0\n",
    "    for field in fields:\n",
    "        if row1[field] == row2[field] and field in ['device_id', 'identity', 'device_fingerprint']:\n",
    "            title.append(field)\n",
    "            width += 1\n",
    "    return width, '\\n'.join(title)"
   ]
  },
  {
   "cell_type": "code",
   "execution_count": 23,
   "id": "3bd948a4-f18c-4fec-9cba-6db1455f4e87",
   "metadata": {},
   "outputs": [],
   "source": [
    "def one_node_to_many_list(node1: dict, nodes_dict: dict) -> list:\n",
    "    \"\"\"\n",
    "    Creates list of edges which connect with node1\n",
    "    :param node1: chosen node\n",
    "    :param nodes_dict: nodes to check for connection with node1\n",
    "    :return: list of edges, each edge is tuple: (node1_id, node2_id, width, title)\n",
    "    \"\"\"\n",
    "    result = []\n",
    "    for i in range(len(nodes_dict['n_id'])):\n",
    "        width, title = calc_edge_width_and_title(node1[list(node1.keys())[0]], nodes_dict['data'][i])\n",
    "        if width != 0:\n",
    "            result.append((list(node1.keys())[0], nodes_dict['n_id'][i], width, title))\n",
    "    return result"
   ]
  },
  {
   "cell_type": "code",
   "execution_count": 24,
   "id": "ac895207-c8bf-48d3-bafe-b845db5356c2",
   "metadata": {},
   "outputs": [],
   "source": [
    "compromised_nodes = prepare_nodes_parameters(\n",
    "    data[\n",
    "        (data['device_id'] == fraudulent_device)\n",
    "        | (data['identity'] == fraudulent_account)\n",
    "    ],\n",
    "    'red'\n",
    ")"
   ]
  },
  {
   "cell_type": "code",
   "execution_count": 25,
   "id": "d8669be9-a827-4eeb-ba32-53ebfbe97916",
   "metadata": {
    "scrolled": true
   },
   "outputs": [],
   "source": [
    "associated_fingerprints = list(set(data['device_fingerprint'][\n",
    "    ((data['device_id'] == fraudulent_device)\n",
    "    | (data['identity'] == fraudulent_account))\n",
    "    & (data['device_fingerprint'] != 'No data')\n",
    "].values))"
   ]
  },
  {
   "cell_type": "code",
   "execution_count": 26,
   "id": "88640bcb-9857-4dda-8c69-ee8fa4a6f9db",
   "metadata": {},
   "outputs": [],
   "source": [
    "parameters_of_user_agent = {\n",
    "    'os': [],\n",
    "    'browser': [],\n",
    "    'screen': [],\n",
    "}\n",
    "\n",
    "for index, row in data[data['device_fingerprint'].isin(associated_fingerprints)].iterrows():\n",
    "    parameters_of_user_agent['os'].append(row['os'])\n",
    "    parameters_of_user_agent['browser'].append(row['browser'])\n",
    "    parameters_of_user_agent['screen'].append(row['screen'])\n",
    "\n",
    "for key in parameters_of_user_agent.keys():\n",
    "    parameters_of_user_agent[key] = list(set(parameters_of_user_agent[key]))\n"
   ]
  },
  {
   "cell_type": "code",
   "execution_count": 47,
   "id": "e8f19751-9dba-4b21-a9c6-408b5ac73528",
   "metadata": {
    "jupyter": {
     "source_hidden": true
    },
    "scrolled": true
   },
   "outputs": [],
   "source": [
    "associated_nodes = prepare_nodes_parameters(\n",
    "    data[\n",
    "        (data['os'].isin(parameters_of_user_agent['os']))\n",
    "        & (data['browser'].isin(parameters_of_user_agent['browser']))\n",
    "        & (data['screen'].isin(parameters_of_user_agent['screen']))\n",
    "        & (data['country'] == 'Russia')\n",
    "    ],\n",
    "    'yellow'\n",
    ")"
   ]
  },
  {
   "cell_type": "code",
   "execution_count": 28,
   "id": "6e6b73f1-a37a-45db-a381-345a610905e1",
   "metadata": {},
   "outputs": [],
   "source": [
    "edge_list = []\n",
    "\n",
    "for i in range(len(compromised_nodes['n_id'])):\n",
    "    edge_list += one_node_to_many_list({compromised_nodes['n_id'][i]: compromised_nodes['data'][i]}, associated_nodes)\n",
    "# edge_list"
   ]
  },
  {
   "cell_type": "code",
   "execution_count": 41,
   "id": "e7062607-7adb-45c4-b36b-29037d272963",
   "metadata": {},
   "outputs": [],
   "source": [
    "net = Network(height=\"750px\", width=\"100%\", bgcolor=\"#222230\", font_color=\"white\", notebook=True, cdn_resources='in_line')"
   ]
  },
  {
   "cell_type": "code",
   "execution_count": 42,
   "id": "39df68af-d0a8-45fa-9a64-3c0fcdbb4062",
   "metadata": {},
   "outputs": [],
   "source": [
    "net.add_nodes(\n",
    "    compromised_nodes['n_id'], \n",
    "    value=compromised_nodes['value'],\n",
    "    title=compromised_nodes['title'],\n",
    "    label=compromised_nodes['label'],\n",
    "    color=compromised_nodes['color']\n",
    ")"
   ]
  },
  {
   "cell_type": "code",
   "execution_count": 43,
   "id": "ca529e47-b2cb-450b-8364-1a7ec011ad68",
   "metadata": {},
   "outputs": [],
   "source": [
    "net.add_nodes(\n",
    "    associated_nodes['n_id'], \n",
    "    value=associated_nodes['value'],\n",
    "    title=associated_nodes['title'],\n",
    "    label=associated_nodes['label'],\n",
    "    color=associated_nodes['color']\n",
    ")"
   ]
  },
  {
   "cell_type": "code",
   "execution_count": 44,
   "id": "9de35208-61ec-4011-8726-12aa4f4ca206",
   "metadata": {},
   "outputs": [],
   "source": [
    "for edge in edge_list:\n",
    "    net.add_edge(edge[0], edge[1], width=edge[2], title=edge[3], color='gray')"
   ]
  },
  {
   "cell_type": "code",
   "execution_count": 46,
   "id": "49c69e9c-b18e-490a-9da0-5cd6a9a396b8",
   "metadata": {},
   "outputs": [
    {
     "name": "stdout",
     "output_type": "stream",
     "text": [
      "nx.html\n"
     ]
    },
    {
     "data": {
      "text/html": [
       "\n",
       "        <iframe\n",
       "            width=\"100%\"\n",
       "            height=\"750px\"\n",
       "            src=\"nx.html\"\n",
       "            frameborder=\"0\"\n",
       "            allowfullscreen\n",
       "            \n",
       "        ></iframe>\n",
       "        "
      ],
      "text/plain": [
       "<IPython.lib.display.IFrame at 0x1174cf390>"
      ]
     },
     "execution_count": 46,
     "metadata": {},
     "output_type": "execute_result"
    }
   ],
   "source": [
    "net.barnes_hut()\n",
    "net.show('nx.html')"
   ]
  },
  {
   "cell_type": "code",
   "execution_count": null,
   "id": "60f9a5ac-65ee-4a9f-aa32-76141b750cc1",
   "metadata": {},
   "outputs": [],
   "source": []
  }
 ],
 "metadata": {
  "kernelspec": {
   "display_name": "Python 3 (ipykernel)",
   "language": "python",
   "name": "python3"
  },
  "language_info": {
   "codemirror_mode": {
    "name": "ipython",
    "version": 3
   },
   "file_extension": ".py",
   "mimetype": "text/x-python",
   "name": "python",
   "nbconvert_exporter": "python",
   "pygments_lexer": "ipython3",
   "version": "3.11.4"
  }
 },
 "nbformat": 4,
 "nbformat_minor": 5
}
